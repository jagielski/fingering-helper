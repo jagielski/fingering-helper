{
 "cells": [
  {
   "cell_type": "code",
   "execution_count": 10,
   "metadata": {},
   "outputs": [
    {
     "name": "stdout",
     "output_type": "stream",
     "text": [
      "Requirement already satisfied: pydub in /home/matthew/anaconda2/lib/python2.7/site-packages\n",
      "\u001b[33mYou are using pip version 18.0, however version 19.3.1 is available.\n",
      "You should consider upgrading via the 'pip install --upgrade pip' command.\u001b[0m\n"
     ]
    }
   ],
   "source": [
    "!pip install pydub\n",
    "\n",
    "import mp3_utils\n",
    "import matplotlib.pyplot as plt\n",
    "import numpy as np"
   ]
  },
  {
   "cell_type": "code",
   "execution_count": 11,
   "metadata": {},
   "outputs": [
    {
     "name": "stdout",
     "output_type": "stream",
     "text": [
      "normal\n",
      "[0 0 0 1 1 1 0 0 0 1 0]\n",
      "[((3, 6), array([1, 1, 1])), ((9, 10), array([1]))]\n",
      "doesn't start with 0\n",
      "[1 1 1 0 0 0 1 0]\n",
      "[((0, 3), array([1, 1, 1])), ((6, 7), array([1]))]\n",
      "doesn't end with zero\n",
      "[0 0 0 1 1 1 0 0 0 1]\n",
      "[((3, 6), array([1, 1, 1])), ((9, 10), array([1]))]\n",
      "short gaps\n",
      "[0 1 0 1 0 1 0]\n",
      "[((1, 2), array([1])), ((3, 4), array([1])), ((5, 6), array([1]))]\n",
      "all zeros\n",
      "[0 0 0 0 0 0]\n",
      "[]\n",
      "no zeros\n",
      "[1 1 1 1 1 1]\n",
      "[((0, 6), array([1, 1, 1, 1, 1, 1]))]\n",
      "test indexing\n",
      "[((3, 6), array([2, 2, 2])), ((9, 10), array([2]))]\n"
     ]
    }
   ],
   "source": [
    "def get_nonzero_blocks(arr):\n",
    "    zero_entries = (arr == 0)\n",
    "    consecutive_zero_blocks = np.copy(zero_entries).astype(np.int)\n",
    "    for i in range(consecutive_zero_blocks.shape[0]):\n",
    "        if (i > 0) and (consecutive_zero_blocks[i-1] > 0) and (consecutive_zero_blocks[i] > 0):\n",
    "            consecutive_zero_blocks[i] = consecutive_zero_blocks[i-1] + 1\n",
    "    return consecutive_zero_blocks\n",
    "\n",
    "def get_nonzero_block_bounds(arr, len_cutoff):\n",
    "    nonzero_blocks = get_nonzero_blocks(arr)\n",
    "    above_cutoff_locs = np.where(nonzero_blocks >= len_cutoff)[0]\n",
    "    true_locations_followed_by_false = []\n",
    "    for i, loc in enumerate(above_cutoff_locs):\n",
    "        if (i + 1) == above_cutoff_locs.shape[0]:\n",
    "            true_locations_followed_by_false.append((loc, nonzero_blocks[loc]))\n",
    "        else:\n",
    "            if above_cutoff_locs[i+1] != (loc + 1):\n",
    "                true_locations_followed_by_false.append((loc, nonzero_blocks[loc]))\n",
    "    return true_locations_followed_by_false\n",
    "\n",
    "\n",
    "def partition_nonzero_blocks(arr, len_cutoff=1):\n",
    "    true_locations_followed_by_false = get_nonzero_block_bounds(arr, len_cutoff)\n",
    "    partition_inds = []\n",
    "    for loc, run_len in true_locations_followed_by_false:\n",
    "        start, end = loc - run_len + 1, loc\n",
    "        partition_inds.append(start)\n",
    "        partition_inds.append(end)\n",
    "    all_runs = []\n",
    "\n",
    "    if arr[0] != 0: # need to add the first block\n",
    "        run_start = 0\n",
    "        run_end = arr.shape[0] if len(partition_inds) == 0 else partition_inds[0]\n",
    "        run = (run_start, run_end), arr[run_start:run_end]\n",
    "        all_runs.append(run)\n",
    "\n",
    "    for start_ind in range(1, len(partition_inds), 2):  # start at end of first zero block\n",
    "        if len(partition_inds) <= (start_ind + 1):  # don't go out of bounds\n",
    "            continue\n",
    "        run_inds = (partition_inds[start_ind] + 1, partition_inds[start_ind + 1])\n",
    "        run = run_inds, arr[run_inds[0]:run_inds[1]]\n",
    "        all_runs.append(run)\n",
    "    \n",
    "    if arr[-1] != 0 and len(partition_inds) > 0:  # need to add the last block\n",
    "        run_inds = (partition_inds[-1] + 1, arr.shape[0])\n",
    "        run = run_inds, arr[run_inds[0]:run_inds[1]]\n",
    "        all_runs.append(run)\n",
    "\n",
    "    return all_runs\n",
    "\n",
    "def index_into_arr(all_runs, arr):\n",
    "    other_runs = []\n",
    "    for run_tup, _ in all_runs:\n",
    "        run_start, run_end = run_tup\n",
    "        other_runs.append((run_tup, arr[run_start:run_end]))\n",
    "    return other_runs\n",
    "\n",
    "# shitty test infra ayy\n",
    "def test_fn(name, fn, inp):\n",
    "    print(name)\n",
    "    print(inp)\n",
    "    print(fn(inp))\n",
    "\n",
    "test_fn(\"normal\", partition_nonzero_blocks, np.array([0, 0, 0, 1, 1, 1, 0, 0, 0, 1, 0]))\n",
    "\n",
    "test_fn(\"doesn't start with 0\", partition_nonzero_blocks, np.array([1, 1, 1, 0, 0, 0, 1, 0]))\n",
    "\n",
    "test_fn(\"doesn't end with zero\", partition_nonzero_blocks, np.array([0, 0, 0, 1, 1, 1, 0, 0, 0, 1]))\n",
    "\n",
    "test_fn(\"short gaps\", partition_nonzero_blocks, np.array([0, 1, 0, 1, 0, 1, 0]))\n",
    "\n",
    "test_fn(\"all zeros\", partition_nonzero_blocks, np.array([0, 0, 0, 0, 0, 0]))\n",
    "\n",
    "test_fn(\"no zeros\", partition_nonzero_blocks, np.array([1, 1, 1, 1, 1, 1]))\n",
    "\n",
    "print(\"test indexing\")\n",
    "tst_arr = np.array([0, 0, 0, 2, 2, 2, 0, 0, 0, 2, 0])\n",
    "print(index_into_arr(partition_nonzero_blocks(tst_arr), tst_arr))"
   ]
  },
  {
   "cell_type": "code",
   "execution_count": 12,
   "metadata": {},
   "outputs": [
    {
     "data": {
      "text/plain": [
       "(4982784, 2)"
      ]
     },
     "execution_count": 12,
     "metadata": {},
     "output_type": "execute_result"
    }
   ],
   "source": [
    "frame_rate, mp3_arr = mp3_utils.read(mp3_utils.FILE)\n",
    "mp3_arr.shape"
   ]
  },
  {
   "cell_type": "code",
   "execution_count": 13,
   "metadata": {
    "collapsed": true
   },
   "outputs": [],
   "source": [
    "magnitude_cutoff = 200\n",
    "squish_below_cutoff = lambda arr: np.maximum(0, np.abs(arr) - magnitude_cutoff)\n",
    "\n",
    "all_mp3_partitions = partition_nonzero_blocks(squish_below_cutoff(mp3_arr[:, 0]), len_cutoff=45)\n",
    "orig_mp3_partitions = index_into_arr(all_mp3_partitions, mp3_arr[:, 0])"
   ]
  },
  {
   "cell_type": "code",
   "execution_count": 49,
   "metadata": {},
   "outputs": [
    {
     "name": "stdout",
     "output_type": "stream",
     "text": [
      "61\n",
      "(354125, 404960)\n",
      "[    0     1     2 ..., 50832 50833 50834]\n"
     ]
    },
    {
     "data": {
      "image/png": "[encoded data removed]",
      "text/plain": [
       "<matplotlib.figure.Figure at 0x7f52a2804f50>"
      ]
     },
     "metadata": {},
     "output_type": "display_data"
    },
    {
     "name": "stdout",
     "output_type": "stream",
     "text": [
      "[  973.34907052   975.95160814   976.81912068   977.68663323   978.55414577\n",
      "   980.28917085   981.15668339   982.89170847   984.62673355   985.49424609\n",
      "   987.22927117   988.09678371   988.96429625   989.83180879   990.69932133\n",
      "   991.56683387   992.43434641   993.30185896   994.1693715    995.03688404\n",
      "   995.90439658   996.77190912   997.63942166   998.5069342   1001.10947182\n",
      "  1002.8444969   1000.24195928   999.37444674   998.5069342    997.63942166\n",
      "   996.77190912   995.90439658   995.03688404   994.1693715    993.30185896\n",
      "   992.43434641   991.56683387   990.69932133   989.83180879   988.96429625\n",
      "   987.22927117   986.36175863   984.62673355   982.89170847   982.02419593\n",
      "   980.28917085   979.42165831   978.55414577   977.68663323   975.95160814\n",
      "   975.0840956 ]\n",
      "3436469.5556\n",
      "[    0     1     2 ..., 50832 50833 50834]\n"
     ]
    },
    {
     "data": {
      "image/png": "[encoded data removed]",
      "text/plain": [
       "<matplotlib.figure.Figure at 0x7f52a2ab9350>"
      ]
     },
     "metadata": {},
     "output_type": "display_data"
    },
    {
     "name": "stdout",
     "output_type": "stream",
     "text": [
      "[ 1031.47241074  1034.07494836  1035.80997344  1036.67748598  1037.54499852\n",
      "  1039.28002361  1040.14753615  1041.88256123  1043.61758631  1044.48509885\n",
      "  1046.22012393  1047.08763647  1047.95514901  1048.82266155  1049.69017409\n",
      "  1051.42519917  1052.29271171  1053.16022425  1054.0277368   1054.89524934\n",
      "  1055.76276188  1056.63027442  1057.49778696  1058.3652995   1060.96783712\n",
      "  1061.83534966  1059.23281204  1058.3652995   1057.49778696  1056.63027442\n",
      "  1055.76276188  1054.89524934  1054.0277368   1053.16022425  1052.29271171\n",
      "  1050.55768663  1049.69017409  1048.82266155  1047.95514901  1047.08763647\n",
      "  1045.35261139  1044.48509885  1042.75007377  1041.01504869  1040.14753615\n",
      "  1038.41251107  1037.54499852  1036.67748598  1034.9424609   1033.20743582\n",
      "  1032.33992328]\n",
      "3259089.00384\n",
      "(0, 980.96809370469668, 1039.0039968883286, ('B', 5), ('C', 5))\n"
     ]
    }
   ],
   "source": [
    "def get_hz(partition, shift_key=0):\n",
    "    partition_inds, partition_vals = partition\n",
    "    ind_range = np.arange(partition_inds[0], partition_inds[1])\n",
    "    \n",
    "    spec = np.fft.fft(partition_vals)\n",
    "    freq = np.fft.fftfreq(ind_range.shape[-1])\n",
    "    \n",
    "    sort_map = np.argsort(freq)\n",
    "    rev_sort_map = np.argsort(sort_map)\n",
    "    new_spec = np.zeros_like(spec, dtype=np.complex128)\n",
    "\n",
    "    #print(sort_map[rev_sort_map])\n",
    "    \n",
    "    sorted_freq = freq[sort_map]\n",
    "    \n",
    "    shifted_freqs = freq * 2**(shift_key/12.)\n",
    "    for i in range(shifted_freqs.shape[0]):\n",
    "        freq_val = shifted_freqs[i]\n",
    "        spec_val = spec[i]\n",
    "        closest_ind = np.minimum(np.searchsorted(sorted_freq, freq_val), freq.shape[0]-1)\n",
    "        #print(freq_val, spec_val, sorted_freq[closest_ind])\n",
    "        new_spec[rev_sort_map[closest_ind]] += spec_val\n",
    "    \n",
    "    rev_partition = np.fft.ifft(new_spec)\n",
    "    #spec = np.fft.fft(rev_partition)\n",
    "\n",
    "    \n",
    "    plt.plot(44100*freq, spec.real)\n",
    "    plt.plot(44100*freq, new_spec.real)\n",
    "    plt.xlim(-5000, 5000)\n",
    "    #plt.plot(freq, spec.imag)\n",
    "    plt.show()\n",
    "    \n",
    "    \n",
    "    big_cutoff = np.percentile(np.abs(new_spec.real), 99.9)\n",
    "\n",
    "    big_freqs = 44100*np.abs(freq[np.where(np.abs(new_spec.real) > big_cutoff)])\n",
    "    #print(big_freqs)\n",
    "    \n",
    "    freqs_in_range = np.where(big_freqs < np.min(big_freqs) + 15)\n",
    "\n",
    "    hz = np.mean(big_freqs[freqs_in_range])\n",
    "    if shift_key == 0:\n",
    "        return hz, rev_partition\n",
    "    else:\n",
    "        return hz, rev_partition\n",
    "\n",
    "def hz_to_note(hz):\n",
    "    # assumes A4 = 440 Hz\n",
    "    all_note_names = ['A', 'A#', 'B', 'C', 'C#', 'D', 'D#', 'E', 'F', 'F#', 'G', 'G#']\n",
    "\n",
    "    note_diff = int(round(12*np.log2(hz / 440)))\n",
    "    \n",
    "    octave = 4 + note_diff // 12\n",
    "    note_ind = note_diff % 12\n",
    "    note_name = all_note_names[note_ind]\n",
    "    return note_name, octave\n",
    "\n",
    "print(len(orig_mp3_partitions))\n",
    "for i, partition in enumerate(orig_mp3_partitions):\n",
    "    if i > 0:\n",
    "        continue\n",
    "    partition_inds, partition_vals = partition\n",
    "    print(partition_inds)\n",
    "    if partition_inds[1] - partition_inds[0] <= 150:  # arbitrary but fairly robust cutoff\n",
    "        continue\n",
    "\n",
    "    hz, vals = get_hz(partition, shift_key=0)\n",
    "    print(np.linalg.norm(vals - partition_vals))\n",
    "    new_hz, new_vals = get_hz(partition, shift_key=1)\n",
    "    print(np.linalg.norm(new_vals - partition_vals))\n",
    "\n",
    "    note, new_note = hz_to_note(hz), hz_to_note(new_hz)\n",
    "    print(i, hz, new_hz, note, new_note)"
   ]
  },
  {
   "cell_type": "code",
   "execution_count": 9,
   "metadata": {},
   "outputs": [],
   "source": [
    "trunc_mp3 = mp3_arr[:1300000]\n",
    "mp3_utils.write(\"hotcrossbuns_abridged.mp3\", frame_rate, trunc_mp3)"
   ]
  },
  {
   "cell_type": "code",
   "execution_count": null,
   "metadata": {
    "collapsed": true
   },
   "outputs": [],
   "source": [
    "fake_x = np.arange(1000)\n",
    "fake_arr = np.sin(fake_x)\n",
    "fake_spec = np.fft.fft(fake_arr)\n",
    "fake_freq = np.fft.fftfreq(fake_x.shape[-1])\n",
    "\n",
    "plt.plot(fake_freq, fake_spec.real, fake_freq, fake_spec.imag)\n",
    "plt.show()"
   ]
  },
  {
   "cell_type": "code",
   "execution_count": null,
   "metadata": {
    "collapsed": true
   },
   "outputs": [],
   "source": [
    "# start, end =  354000, 405000\n",
    "# start, end = 407000, 458000\n",
    "# start, end = 459600, 511000\n",
    "start, end = 404600, 407500\n",
    "trunc_arr = mp3_arr[start:end, 0]\n",
    "trunc_x = np.arange(start, end)\n",
    "plt.plot(trunc_x, trunc_arr)\n",
    "plt.show()"
   ]
  },
  {
   "cell_type": "code",
   "execution_count": null,
   "metadata": {
    "collapsed": true
   },
   "outputs": [],
   "source": [
    "trunc_spec = np.fft.fft(trunc_arr)\n",
    "trunc_freq = np.fft.fftfreq(trunc_x.shape[-1])\n",
    "plt.plot(trunc_freq, trunc_spec.real)\n",
    "plt.plot(trunc_freq, trunc_spec.imag)\n",
    "plt.show()\n",
    "\n",
    "largest_freqs = np.argpartition(np.abs(trunc_spec.real), -20)[-20:]\n",
    "for freq in largest_freqs:\n",
    "    print(trunc_freq[freq]*44100, trunc_spec.real[freq], trunc_spec.imag[freq])"
   ]
  },
  {
   "cell_type": "code",
   "execution_count": null,
   "metadata": {
    "collapsed": true
   },
   "outputs": [],
   "source": [
    "for i, (partition_inds, partition_vals) in enumerate(orig_mp3_partitions):\n",
    "    if partition_inds[1] - partition_inds[0] <= 150:  # arbitrary but fairly robust cutoff\n",
    "        continue\n",
    "    ind_range = np.arange(partition_inds[0], partition_inds[1])\n",
    "    plt.plot(ind_range, partition_vals)\n",
    "    plt.show()\n",
    "    #fname = 'mp3_{}'.format(i)\n",
    "    #get_note.write(fname, frame_rate, partition_vals)"
   ]
  }
 ],
 "metadata": {
  "kernelspec": {
   "display_name": "Python [conda root]",
   "language": "python",
   "name": "conda-root-py"
  },
  "language_info": {
   "codemirror_mode": {
    "name": "ipython",
    "version": 2
   },
   "file_extension": ".py",
   "mimetype": "text/x-python",
   "name": "python",
   "nbconvert_exporter": "python",
   "pygments_lexer": "ipython2",
   "version": "2.7.13"
  }
 },
 "nbformat": 4,
 "nbformat_minor": 2
}
